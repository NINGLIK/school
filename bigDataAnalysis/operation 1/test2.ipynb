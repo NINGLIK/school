{
 "cells": [
  {
   "cell_type": "code",
   "execution_count": 10,
   "metadata": {},
   "outputs": [],
   "source": [
    "import numpy as np"
   ]
  },
  {
   "cell_type": "markdown",
   "metadata": {},
   "source": [
    " (1) 加载练习1中生成的Python二进制数据文件，获得数组N4"
   ]
  },
  {
   "cell_type": "code",
   "execution_count": 11,
   "metadata": {},
   "outputs": [],
   "source": [
    "N4 = np.load('N4.npy')\n",
    "print(N4)"
   ]
  },
  {
   "cell_type": "markdown",
   "metadata": {},
   "source": [
    " (2) 提取N4第1行中的第2、4个元素，第3行中的第1、5个元素，组成一个新的一维数组N5"
   ]
  },
  {
   "cell_type": "code",
   "execution_count": 12,
   "metadata": {},
   "outputs": [],
   "source": [
    "\n",
    "row1_elements = N4[0, [1, 3]]\n",
    "row3_elements = N4[2, [0, 4]]\n",
    "N5 = np.concatenate((row1_elements, row3_elements))\n",
    "print(N5)"
   ]
  },
  {
   "cell_type": "markdown",
   "metadata": {},
   "source": [
    " (3) 从N4中截取第一行作为N1\n",
    " 将N5与N1进行水平合并，生成一个新的二维数组N6"
   ]
  },
  {
   "cell_type": "code",
   "execution_count": 13,
   "metadata": {},
   "outputs": [],
   "source": [
    "N1 = N4[0, :]\n",
    "N6 = np.hstack((N1, N5))\n",
    "print(N6)"
   ]
  }
 ],
 "metadata": {
  "kernelspec": {
   "display_name": "Python 3",
   "language": "python",
   "name": "python3"
  },
  "language_info": {
   "codemirror_mode": {
    "name": "ipython",
    "version": 3
   },
   "file_extension": ".py",
   "mimetype": "text/x-python",
   "name": "python",
   "nbconvert_exporter": "python",
   "pygments_lexer": "ipython3",
   "version": "3.10.12"
  }
 },
 "nbformat": 4,
 "nbformat_minor": 2
}
