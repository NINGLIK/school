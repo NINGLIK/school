{
 "cells": [
  {
   "cell_type": "code",
   "execution_count": 19,
   "metadata": {},
   "outputs": [
    {
     "name": "stdout",
     "output_type": "stream",
     "text": [
      "[[0.        ]\n",
      " [0.33333333]\n",
      " [0.66666667]\n",
      " [1.        ]]\n"
     ]
    }
   ],
   "source": [
    "import numpy as np\n",
    "x=np.array([1,2,3,4]).reshape(-1,1)\n",
    "from sklearn.preprocessing import *\n",
    "modell=StandardScaler()\n",
    "modell.fit(x)\n",
    "m1=modell.transform(x)\n",
    "model2=MinMaxScaler()\n",
    "model2.fit(x)\n",
    "m2=model2.transform(x)\n",
    "print(m2)"
   ]
  },
  {
   "cell_type": "code",
   "execution_count": 20,
   "metadata": {},
   "outputs": [
    {
     "name": "stdout",
     "output_type": "stream",
     "text": [
      "[0 0 0 1 1 1 1 0]\n"
     ]
    },
    {
     "name": "stderr",
     "output_type": "stream",
     "text": [
      "c:\\Users\\NINGLIK\\AppData\\Local\\Programs\\Python\\Python311\\Lib\\site-packages\\sklearn\\cluster\\_kmeans.py:1416: FutureWarning: The default value of `n_init` will change from 10 to 'auto' in 1.4. Set the value of `n_init` explicitly to suppress the warning\n",
      "  super()._check_params_vs_input(X, default_n_init=10)\n"
     ]
    }
   ],
   "source": [
    "x=[1.5,1.7,1.6,2.1,2.2,2.4,2.5,1.8]\n",
    "y=[2.5,1.3,2.2,6.2,5.2,7.1,9.8,1.9]\n",
    "x=np.array([x,y]).T\n",
    "from sklearn.cluster import KMeans\n",
    "model=KMeans(n_clusters=2,random_state=42)\n",
    "model.fit(x)\n",
    "c = model.predict(x)\n",
    "print(c)"
   ]
  },
  {
   "cell_type": "code",
   "execution_count": 21,
   "metadata": {},
   "outputs": [
    {
     "name": "stdout",
     "output_type": "stream",
     "text": [
      "[1. 1. 4.]\n",
      "[[ 0.33333333  0.          0.33333333]\n",
      " [-0.66666667  1.         -0.66666667]\n",
      " [-0.          1.         -1.        ]]\n"
     ]
    }
   ],
   "source": [
    "import numpy.linalg\n",
    "A=np.array([[1,-1,1],[2,1,0],[2,1,-1]])\n",
    "b=np.array([4,3,-1])\n",
    "x=np.linalg.solve(A,b)\n",
    "print(x)\n",
    "A_1=np.linalg.inv(A)\n",
    "print(A_1)"
   ]
  },
  {
   "cell_type": "code",
   "execution_count": 22,
   "metadata": {},
   "outputs": [
    {
     "name": "stdout",
     "output_type": "stream",
     "text": [
      "     a\n",
      "1 -2.0\n",
      "0  1.0\n"
     ]
    }
   ],
   "source": [
    "import pandas as pd\n",
    "df1=pd.DataFrame({'a':[1,-2,np.nan]})\n",
    "df2=df1.dropna()\n",
    "df3=df2.sort_values(by='a',ascending=True)\n",
    "print(df3)"
   ]
  }
 ],
 "metadata": {
  "kernelspec": {
   "display_name": "Python 3",
   "language": "python",
   "name": "python3"
  },
  "language_info": {
   "codemirror_mode": {
    "name": "ipython",
    "version": 3
   },
   "file_extension": ".py",
   "mimetype": "text/x-python",
   "name": "python",
   "nbconvert_exporter": "python",
   "pygments_lexer": "ipython3",
   "version": "undefined.undefined.undefined"
  }
 },
 "nbformat": 4,
 "nbformat_minor": 2
}
