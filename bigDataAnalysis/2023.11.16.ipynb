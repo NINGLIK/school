{
 "cells": [
  {
   "cell_type": "code",
   "execution_count": 13,
   "metadata": {},
   "outputs": [
    {
     "name": "stdout",
     "output_type": "stream",
     "text": [
      "预测结果为: [0 1 1 1 1 0 0 1 0 1 1 0 1 0 1 1 0 0 0 1 0 1 1 0 1 1 1 0 0 0 0 0 1 0 0 1 0\n",
      " 0 0 0 0 1 1 0 1 0 1 0 1 1 1 0 0 1 0 0 1 0 0 0 1 0 1 1 0 0 0 0 0 0 1 1 0 1\n",
      " 0 0 0 0 0 1 0 1 1 0 1 1 0 1 1 0]\n",
      "预测准确率为: 78\n",
      "<class 'sklearn.linear_model._logistic.LogisticRegression'>\n"
     ]
    }
   ],
   "source": [
    "import pandas as pd\n",
    "data=pd.read_excel('./credit.xlsx')\n",
    "x=data.iloc[:600,:14].values\n",
    "y=data.iloc[:600,14].values\n",
    "x1=data.iloc[600:,:14].values\n",
    "y1=data.iloc[600:,14].values\n",
    "from sklearn.linear_model import LogisticRegression as LR\n",
    "lr=LR(max_iter=2000)\n",
    "lr.fit(x,y)\n",
    "r=lr.score(x,y)\n",
    "R=lr.predict(x1)\n",
    "Z=R-y1\n",
    "Rs=len(Z[Z==0]/len(Z))\n",
    "print(\"预测结果为:\",R)\n",
    "print(\"预测准确率为:\",Rs)\n",
    "# print(type())"
   ]
  },
  {
   "cell_type": "code",
   "execution_count": 22,
   "metadata": {},
   "outputs": [
    {
     "name": "stdout",
     "output_type": "stream",
     "text": [
      "预测结果为: [0 1 1 1 1 0 1 1 0 0 1 0 0 0 1 1 0 0 0 1 0 1 1 0 1 0 0 0 0 0 0 0 0 0 0 0 0\n",
      " 0 0 0 0 1 1 0 1 0 1 0 0 1 0 0 0 1 0 0 1 0 0 0 1 0 1 0 0 0 0 0 0 0 0 0 0 1\n",
      " 0 0 0 0 0 1 0 1 1 0 1 1 0 0 1 0]\n",
      "预测准确率为: 0.8111111111111111\n",
      "<class 'sklearn.neural_network._multilayer_perceptron.MLPClassifier'>\n"
     ]
    }
   ],
   "source": [
    "from sklearn.neural_network import MLPClassifier\n",
    "clf=MLPClassifier(solver='lbfgs',alpha=1e-5,hidden_layer_sizes=(5,2),random_state=1,max_iter=2000)\n",
    "clf.fit(x,y)\n",
    "rv=clf.score(x,y)\n",
    "R=clf.predict(x1)\n",
    "Z=R-y1\n",
    "Rs=len(Z[Z==0])/len(Z)\n",
    "print('预测结果为:',R)\n",
    "print('预测准确率为:',Rs)\n",
    "print(type(clf))"
   ]
  },
  {
   "cell_type": "code",
   "execution_count": null,
   "metadata": {},
   "outputs": [],
   "source": [
    "import pandas as pd\n"
   ]
  }
 ],
 "metadata": {
  "kernelspec": {
   "display_name": "Python 3",
   "language": "python",
   "name": "python3"
  },
  "language_info": {
   "codemirror_mode": {
    "name": "ipython",
    "version": 3
   },
   "file_extension": ".py",
   "mimetype": "text/x-python",
   "name": "python",
   "nbconvert_exporter": "python",
   "pygments_lexer": "ipython3",
   "version": "3.12.0"
  }
 },
 "nbformat": 4,
 "nbformat_minor": 2
}
