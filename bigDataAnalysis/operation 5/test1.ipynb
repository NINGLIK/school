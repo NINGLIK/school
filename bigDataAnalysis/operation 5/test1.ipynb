{
 "cells": [
  {
   "cell_type": "code",
   "execution_count": 54,
   "metadata": {},
   "outputs": [
    {
     "name": "stdout",
     "output_type": "stream",
     "text": [
      "预测结果为: [0. 0. 1. 1. 1.]\n"
     ]
    }
   ],
   "source": [
    "import pandas as pd\n",
    "data=pd.read_excel(r'D:\\.work\\school\\bigDataAnalysis\\operation 4\\2.xlsx')\n",
    "x_train=data.iloc[:20,1:4].values\n",
    "y_train=data.iloc[:20,4].values\n",
    "x_test=data.iloc[20:,1:4].values\n",
    "y_test=data.iloc[20:,4].values\n"
   ]
  },
  {
   "cell_type": "code",
   "execution_count": null,
   "metadata": {},
   "outputs": [],
   "source": [
    "from sklearn.linear_model import LogisticRegression as LR\n",
    "lr=LR()\n",
    "lr.fit(x_train,y_train)       \n",
    "# r=lr.score(x_train,y_train)\n",
    "y_pred=lr.predict(x_test)\n",
    "# Z=y_pred-y_test\n",
    "# Rs=len(Z[Z==0])/len(Z)\n",
    "print('预测结果为:',y_pred)"
   ]
  },
  {
   "cell_type": "code",
   "execution_count": 63,
   "metadata": {},
   "outputs": [
    {
     "name": "stdout",
     "output_type": "stream",
     "text": [
      "预测结果为: [0. 0. 1. 1. 1.]\n"
     ]
    }
   ],
   "source": [
    "from sklearn import svm\n",
    "clf=svm.SVC(kernel='rbf')\n",
    "clf.fit(x_train,y_train)\n",
    "y_pred=clf.predict(x_test)\n",
    "print('预测结果为:',y_pred)"
   ]
  },
  {
   "cell_type": "code",
   "execution_count": 64,
   "metadata": {},
   "outputs": [
    {
     "name": "stdout",
     "output_type": "stream",
     "text": [
      "预测结果为: [-1.48385857 -1.40403789 -0.18598762  1.88439123  2.4222947 ]\n"
     ]
    }
   ],
   "source": [
    "from sklearn.neural_network import MLPRegressor\n",
    "clf = MLPRegressor(solver='adam',alpha=1e-5,hidden_layer_sizes=50,random_state=1)\n",
    "clf.fit(x_train,y_train)\n",
    "y_pred=clf.predict(x_test)\n",
    "print('预测结果为:',y_pred)"
   ]
  }
 ],
 "metadata": {
  "kernelspec": {
   "display_name": "Python 3",
   "language": "python",
   "name": "python3"
  },
  "language_info": {
   "codemirror_mode": {
    "name": "ipython",
    "version": 3
   },
   "file_extension": ".py",
   "mimetype": "text/x-python",
   "name": "python",
   "nbconvert_exporter": "python",
   "pygments_lexer": "ipython3",
   "version": "3.11.0"
  }
 },
 "nbformat": 4,
 "nbformat_minor": 2
}
