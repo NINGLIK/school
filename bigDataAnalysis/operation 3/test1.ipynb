{
 "cells": [
  {
   "cell_type": "code",
   "execution_count": 7,
   "metadata": {},
   "outputs": [
    {
     "name": "stdout",
     "output_type": "stream",
     "text": [
      "df1:\n",
      "    姓名  科目   成绩\n",
      "0  小红  语文  100\n",
      "1  小红  英语   90\n",
      "2  小红  数学   75\n",
      "df2:\n",
      "    姓名  科目  成绩\n",
      "3  张明  语文  80\n",
      "4  张明  英语  76\n",
      "5  张明  数学  88\n",
      "df3:\n",
      "    姓名  科目   成绩\n",
      "6  小江  语文   79\n",
      "7  小江  数学  120\n",
      "8  小江  英语   80\n",
      "df4:\n",
      "     姓名  科目  成绩\n",
      "9   小李  英语  87\n",
      "10  小李  语文  99\n",
      "11  小李  数学  76\n",
      "M1:\n",
      " 姓名\n",
      "小红    88.333333\n",
      "Name: 成绩, dtype: float64\n",
      "M2:\n",
      " 姓名\n",
      "张明    81.333333\n",
      "Name: 成绩, dtype: float64\n",
      "M3:\n",
      " 姓名\n",
      "小江    93.0\n",
      "Name: 成绩, dtype: float64\n",
      "M4:\n",
      " 姓名\n",
      "小李    87.333333\n",
      "Name: 成绩, dtype: float64\n"
     ]
    }
   ],
   "source": [
    "import pandas as pd\n",
    "\n",
    "# (1) 读取文件test1.txt中的4位同学的成绩，用一个数据框变量df进行引用\n",
    "df = pd.read_csv('test1.txt', delimiter=',')\n",
    "\n",
    "# (2) 对数据框变量df进行切片操作，分别获得小红、张明、小江和小李的各科成绩\n",
    "df1 = df[df['姓名'] == '小红']\n",
    "df2 = df[df['姓名'] == '张明']\n",
    "df3 = df[df['姓名'] == '小江']\n",
    "df4 = df[df['姓名'] == '小李']\n",
    "\n",
    "# (3) 将成绩列转换为数值类型\n",
    "df['成绩'] = pd.to_numeric(df['成绩'], errors='coerce')\n",
    "\n",
    "# (4) 利用数据框聚合方法，计算每个同学各科成绩的平均分\n",
    "M1 = df1.groupby('姓名')['成绩'].mean()\n",
    "M2 = df2.groupby('姓名')['成绩'].mean()\n",
    "M3 = df3.groupby('姓名')['成绩'].mean()\n",
    "M4 = df4.groupby('姓名')['成绩'].mean()\n",
    "\n",
    "# 打印结果\n",
    "print(\"df1:\\n\", df1)\n",
    "print(\"df2:\\n\", df2)\n",
    "print(\"df3:\\n\", df3)\n",
    "print(\"df4:\\n\", df4)\n",
    "print(\"M1:\\n\", M1)\n",
    "print(\"M2:\\n\", M2)\n",
    "print(\"M3:\\n\", M3)\n",
    "print(\"M4:\\n\", M4)\n"
   ]
  }
 ],
 "metadata": {
  "kernelspec": {
   "display_name": "Python 3",
   "language": "python",
   "name": "python3"
  },
  "language_info": {
   "codemirror_mode": {
    "name": "ipython",
    "version": 3
   },
   "file_extension": ".py",
   "mimetype": "text/x-python",
   "name": "python",
   "nbconvert_exporter": "python",
   "pygments_lexer": "ipython3",
   "version": "3.10.12"
  }
 },
 "nbformat": 4,
 "nbformat_minor": 2
}
