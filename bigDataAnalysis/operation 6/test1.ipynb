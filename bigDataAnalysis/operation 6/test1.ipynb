{
 "cells": [
  {
   "cell_type": "code",
   "execution_count": 13,
   "metadata": {},
   "outputs": [
    {
     "name": "stdout",
     "output_type": "stream",
     "text": [
      "<class 'numpy.ndarray'>\n",
      "[[ 5126  1237]\n",
      " [ 6217  1379]\n",
      " [ 7730  1385]\n",
      " [ 9145  1399]\n",
      " [10460  1663]\n",
      " [11387  1714]\n",
      " [12353  1834]\n",
      " [15750  4322]\n",
      " [18304  8132]\n",
      " [19836  8936]\n",
      " [21024 11099]\n",
      " [19490 11203]\n",
      " [20433 10524]\n",
      " [22598 11115]\n",
      " [25107 13320]\n",
      " [33442 16762]\n",
      " [36836 18673]\n",
      " [40548 20724]\n",
      " [42927 20803]\n",
      " [43462 21804]]\n"
     ]
    }
   ],
   "source": [
    "import pandas as pd\n",
    "import numpy as np\n",
    "data=pd.read_excel(r'D:\\.work\\school\\bigDataAnalysis\\operation 6\\4.xlsx')\n",
    "x_train=data.iloc[:20,1:4].values\n",
    "y_train=data.iloc[:20,4:].values\n",
    "# x_test=data.iloc[20:,1:4].values\n",
    "# y_test=data.iloc[20:,4].values\n",
    "print(type(x_train))\n",
    "print(y_train)"
   ]
  },
  {
   "cell_type": "code",
   "execution_count": 23,
   "metadata": {},
   "outputs": [
    {
     "name": "stdout",
     "output_type": "stream",
     "text": [
      "预测结果为: [[55945.32828392 30280.55112137]]\n",
      "预测结果为: [[58215.9056721  31639.14185701]]\n"
     ]
    }
   ],
   "source": [
    "from sklearn.neural_network import MLPRegressor\n",
    "clf = MLPRegressor(solver='lbfgs', alpha=1e-5, hidden_layer_sizes=20, random_state=23, max_iter=1000)\n",
    "clf.fit(x_train,y_train)\n",
    "pred_2010=np.array([[73.39,3.9635,0.9880]])\n",
    "pred_2011=np.array([[75.55,4.0975,1.0268]])\n",
    "print('预测结果为:',clf.predict(pred_2010))\n",
    "print('预测结果为:',clf.predict(pred_2011))"
   ]
  }
 ],
 "metadata": {
  "kernelspec": {
   "display_name": "Python 3",
   "language": "python",
   "name": "python3"
  },
  "language_info": {
   "codemirror_mode": {
    "name": "ipython",
    "version": 3
   },
   "file_extension": ".py",
   "mimetype": "text/x-python",
   "name": "python",
   "nbconvert_exporter": "python",
   "pygments_lexer": "ipython3",
   "version": "3.11.0"
  }
 },
 "nbformat": 4,
 "nbformat_minor": 2
}
