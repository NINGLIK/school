{
 "cells": [
  {
   "cell_type": "code",
   "execution_count": 16,
   "metadata": {},
   "outputs": [],
   "source": [
    "import pandas as pd\n",
    "import numpy as np"
   ]
  },
  {
   "cell_type": "code",
   "execution_count": 17,
   "metadata": {},
   "outputs": [],
   "source": [
    "# (1) 读取文件test2.xlsx中的数据，用一个数据框变量df进行引用\n",
    "df = pd.read_excel('test2.xlsx')"
   ]
  },
  {
   "cell_type": "code",
   "execution_count": 18,
   "metadata": {},
   "outputs": [
    {
     "name": "stdout",
     "output_type": "stream",
     "text": [
      "      收盘价       交易量\n",
      "0   16.30  16237125\n",
      "1   16.33  29658734\n",
      "2   16.30  26437646\n",
      "3   16.18  17195598\n",
      "4   16.20  14908745\n",
      "5   16.19   7996756\n",
      "6   16.16   9193332\n",
      "7   16.12   8296150\n",
      "8   16.27  19034143\n",
      "9   16.56  53304724\n",
      "10  16.40  12555292\n",
      "11  16.48  11478663\n",
      "12  16.54  12180687\n",
      "13  16.60  14288268\n",
      "~~~~~~~~~~~~~~~~~~~~~~~~~~~~~~~~~~~~~~~~~~~~~~~~~~\n",
      "[[1.6300000e+01 1.6237125e+07]\n",
      " [1.6330000e+01 2.9658734e+07]\n",
      " [1.6300000e+01 2.6437646e+07]\n",
      " [1.6180000e+01 1.7195598e+07]\n",
      " [1.6200000e+01 1.4908745e+07]\n",
      " [1.6190000e+01 7.9967560e+06]\n",
      " [1.6160000e+01 9.1933320e+06]\n",
      " [1.6120000e+01 8.2961500e+06]\n",
      " [1.6270000e+01 1.9034143e+07]\n",
      " [1.6560000e+01 5.3304724e+07]\n",
      " [1.6400000e+01 1.2555292e+07]\n",
      " [1.6480000e+01 1.1478663e+07]\n",
      " [1.6540000e+01 1.2180687e+07]\n",
      " [1.6600000e+01 1.4288268e+07]]\n"
     ]
    }
   ],
   "source": [
    "# (2) 对数据框变量df进行切片操作，选取第3列、第4列，切片后得到一个新的数据框df1，并将df1转换为Numpy数组Nt\n",
    "df1 = df.iloc[:, 2:4]\n",
    "Nt = df1.to_numpy()\n",
    "print(df1)\n",
    "print(\"~\"*50)\n",
    "print(Nt)"
   ]
  },
  {
   "cell_type": "code",
   "execution_count": 19,
   "metadata": {},
   "outputs": [
    {
     "name": "stdout",
     "output_type": "stream",
     "text": [
      "0     False\n",
      "1     False\n",
      "2      True\n",
      "3      True\n",
      "4      True\n",
      "5      True\n",
      "6      True\n",
      "7      True\n",
      "8      True\n",
      "9      True\n",
      "10    False\n",
      "11    False\n",
      "12    False\n",
      "13    False\n",
      "Name: 交易日期, dtype: bool\n"
     ]
    }
   ],
   "source": [
    "# (3) 基于df第2列，构造一个逻辑数组TF，即满足交易日期小于等于2017-01-16且大于等于2017-01-05为真，否则为假\n",
    "TF = (df.iloc[:, 1] >= '2017-01-05') & (df.iloc[:, 1] <= '2017-01-16')\n",
    "print(TF)"
   ]
  },
  {
   "cell_type": "code",
   "execution_count": 20,
   "metadata": {},
   "outputs": [
    {
     "name": "stdout",
     "output_type": "stream",
     "text": [
      "156367094.0\n"
     ]
    }
   ],
   "source": [
    "# (4) 以逻辑数组TF为行索引，取数组Nt中的第2列交易量数据并求和，记为S\n",
    "S = Nt[TF, 1].sum()\n",
    "print(S)"
   ]
  }
 ],
 "metadata": {
  "kernelspec": {
   "display_name": "Python 3",
   "language": "python",
   "name": "python3"
  },
  "language_info": {
   "codemirror_mode": {
    "name": "ipython",
    "version": 3
   },
   "file_extension": ".py",
   "mimetype": "text/x-python",
   "name": "python",
   "nbconvert_exporter": "python",
   "pygments_lexer": "ipython3",
   "version": "3.10.12"
  }
 },
 "nbformat": 4,
 "nbformat_minor": 2
}
