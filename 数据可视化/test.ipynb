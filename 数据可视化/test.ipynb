{
 "cells": [
  {
   "cell_type": "code",
   "execution_count": null,
   "metadata": {},
   "outputs": [],
   "source": [
    "import matplotlib\n",
    "# matplotlib.use('Agg')\n",
    "import matplotlib.pyplot as plt\n",
    "def student(x,y):\n",
    "    # ********** Begin *********#\n",
    "    plt.figure(figsize=(10, 10))\n",
    "    plt.plot(x, y)\n",
    "    plt.savefig(\"./Task1/image1/T2.png\")\n",
    "    # ********** End **********#"
   ]
  },
  {
   "cell_type": "code",
   "execution_count": null,
   "metadata": {},
   "outputs": [],
   "source": [
    "import matplotlib\n",
    "matplotlib.use(\"Agg\")\n",
    "import matplotlib.pyplot as plt\n",
    "\n",
    "\n",
    "def student(input_data,input_data1):\n",
    "\n",
    "    # ********* Begin *********#\n",
    "    plt.figure(figsize=(10, 10))\n",
    "    plt.plot(input_data, '--g', label='L1')\n",
    "    plt.plot(input_data1, ':r', label='L2')\n",
    "    plt.legend()\n",
    "    plt.savefig(\"./Task2/img/T1.png\")\n",
    "    # ********* End *********#"
   ]
  },
  {
   "cell_type": "code",
   "execution_count": null,
   "metadata": {},
   "outputs": [],
   "source": [
    "import matplotlib\n",
    "matplotlib.use(\"Agg\")\n",
    "import matplotlib.pyplot as plt\n",
    "plt.style.use('seaborn-whitegrid')\n",
    "import numpy as np\n",
    "\n",
    "def student(x,y,x2,y2,x3,y3,area):\n",
    "    '''\n",
    "    根据输入的三组数据绘制三组不同参数的散点图\n",
    "    :param x,y: 第一组数据，类型为array\n",
    "    :param x2,y2: 第二组数据，类型为array\n",
    "    :param x3,y3: 第三组数据，类型为array\n",
    "    :param area: 标记大小参数的值，类型为array\n",
    "    :return: None\n",
    "    '''\n",
    "    # ********* Begin *********#\n",
    "    plt.figure(figsize=(10, 10))\n",
    "    plt.scatter(x, y, s=area, alpha=0.5)\n",
    "    plt.scatter(x2, y2, s=area, c='g', alpha=0.6)\n",
    "    plt.scatter(x3, y3, s=area, c=area, alpha=0.7,marker='v')\n",
    "    plt.savefig(\"./Task3/img/T1.png\")\n",
    "    # ********* End *********#"
   ]
  },
  {
   "cell_type": "code",
   "execution_count": null,
   "metadata": {},
   "outputs": [],
   "source": [
    "import matplotlib\n",
    "matplotlib.use(\"Agg\")\n",
    "import numpy as np\n",
    "import matplotlib.pyplot as plt\n",
    "\n",
    "\n",
    "\n",
    "def student(data,x,y):\n",
    "    '''\n",
    "    根据输入数据将直方图与线形图绘制在同一面板中，并设置直方图为红色，线形图为蓝色\n",
    "    :param data: 绘制直方图数据，类型为list\n",
    "    :param x,y: 绘制线形图数据，类型为list\n",
    "\n",
    "    :return: None\n",
    "    '''\n",
    "    # ********* Begin *********#\n",
    "    plt.figure(figsize=(10, 10))\n",
    "    plt.plot(x,y,color=\"blue\")\n",
    "    plt.hist(data,facecolor=\"red\")\n",
    "    plt.savefig(\"./Task4/img/T1.png\")\n",
    "    # ********* End *********#"
   ]
  },
  {
   "cell_type": "code",
   "execution_count": null,
   "metadata": {},
   "outputs": [],
   "source": [
    "import matplotlib\n",
    "matplotlib.use(\"Agg\")\n",
    "import matplotlib.pyplot as plt\n",
    "import numpy as np\n",
    "\n",
    "def student(labels,quants):\n",
    "    # ********* Begin *********#\n",
    "    plt.figure(figsize=(6, 6))\n",
    "    plt.pie(quants,labels=labels,explode = (0,0.1,0,0,0,0,0,0,0,0),autopct='%1.1f%%')\n",
    "    plt.savefig(\"./Task5/img/T1.png\")\n",
    "    # ********* End *********#\n",
    "\n",
    "\n"
   ]
  }
 ],
 "metadata": {
  "language_info": {
   "name": "python"
  }
 },
 "nbformat": 4,
 "nbformat_minor": 2
}
